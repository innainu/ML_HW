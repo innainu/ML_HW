{
 "cells": [
  {
   "cell_type": "markdown",
   "metadata": {},
   "source": [
    "2. What’s Cooking?"
   ]
  },
  {
   "cell_type": "code",
   "execution_count": 1,
   "metadata": {
    "collapsed": true
   },
   "outputs": [],
   "source": [
    "%matplotlib inline\n",
    "import numpy as np\n",
    "import pandas as pd\n",
    "import scipy as sp\n",
    "from scipy import misc\n",
    "import matplotlib.pyplot as plt\n",
    "import matplotlib.cm as cm\n",
    "import sklearn as skl\n",
    "from sklearn.naive_bayes import BernoulliNB\n",
    "from sklearn.naive_bayes import GaussianNB\n",
    "from sklearn import cross_validation\n",
    "from sklearn import linear_model"
   ]
  },
  {
   "cell_type": "markdown",
   "metadata": {},
   "source": [
    "a) Join the What’s Cooking competition on Kaggle."
   ]
  },
  {
   "cell_type": "markdown",
   "metadata": {},
   "source": [
    "b)Tell us about the data. How many samples (dishes) are there in the training set? How many categories (types of cuisine)? Use a list to keep all the unique ingredients appearing in the training set. How many unique ingredients are there?\n",
    "\n",
    "from kaggle:\n",
    "In the dataset, we include the recipe id, the type of cuisine, and the list of ingredients of each recipe (of variable length)."
   ]
  },
  {
   "cell_type": "code",
   "execution_count": 2,
   "metadata": {
    "collapsed": true
   },
   "outputs": [],
   "source": [
    "cooking_df_train = pd.read_json(\"train.json\")\n",
    "cooking_df_test = pd.read_json(\"test.json\")"
   ]
  },
  {
   "cell_type": "code",
   "execution_count": 3,
   "metadata": {
    "collapsed": false
   },
   "outputs": [
    {
     "data": {
      "text/plain": [
       "cuisine                                                  mexican\n",
       "id                                                          2362\n",
       "ingredients    [green chile, jalapeno chilies, onions, ground...\n",
       "Name: 39773, dtype: object"
      ]
     },
     "execution_count": 3,
     "metadata": {},
     "output_type": "execute_result"
    }
   ],
   "source": [
    "len(cooking_df_train)\n",
    "cooking_df_train.iloc[39773]"
   ]
  },
  {
   "cell_type": "code",
   "execution_count": 4,
   "metadata": {
    "collapsed": false
   },
   "outputs": [
    {
     "data": {
      "text/plain": [
       "array([u'greek', u'southern_us', u'filipino', u'indian', u'jamaican',\n",
       "       u'spanish', u'italian', u'mexican', u'chinese', u'british', u'thai',\n",
       "       u'vietnamese', u'cajun_creole', u'brazilian', u'french',\n",
       "       u'japanese', u'irish', u'korean', u'moroccan', u'russian'], dtype=object)"
      ]
     },
     "execution_count": 4,
     "metadata": {},
     "output_type": "execute_result"
    }
   ],
   "source": [
    "cooking_df_train.cuisine.unique()"
   ]
  },
  {
   "cell_type": "code",
   "execution_count": 5,
   "metadata": {
    "collapsed": false
   },
   "outputs": [
    {
     "data": {
      "text/plain": [
       "20"
      ]
     },
     "execution_count": 5,
     "metadata": {},
     "output_type": "execute_result"
    }
   ],
   "source": [
    "len(cooking_df_train.cuisine.unique())"
   ]
  },
  {
   "cell_type": "code",
   "execution_count": 6,
   "metadata": {
    "collapsed": false
   },
   "outputs": [],
   "source": [
    "all_ingredients = [item for sublist in cooking_df_train.ingredients for item in sublist]"
   ]
  },
  {
   "cell_type": "code",
   "execution_count": 7,
   "metadata": {
    "collapsed": false
   },
   "outputs": [
    {
     "data": {
      "text/plain": [
       "[u'low-sodium fat-free chicken broth',\n",
       " u'sweetened coconut',\n",
       " u'baking chocolate',\n",
       " u'egg roll wrappers']"
      ]
     },
     "execution_count": 7,
     "metadata": {},
     "output_type": "execute_result"
    }
   ],
   "source": [
    "all_ingredients_unique = set(all_ingredients)\n",
    "all_ingredients_unique = list(all_ingredients_unique)\n",
    "len(all_ingredients_unique)\n",
    "all_ingredients_unique[:4]"
   ]
  },
  {
   "cell_type": "markdown",
   "metadata": {},
   "source": [
    "(c) Represent each dish by a binary ingredient feature vector.\n",
    "Use n × d feature matrix to represent all the dishes in training set and test set, where n is the number of dishes."
   ]
  },
  {
   "cell_type": "code",
   "execution_count": 8,
   "metadata": {
    "collapsed": false
   },
   "outputs": [],
   "source": [
    "ingredient_fv = []\n",
    "for ing in all_ingredients_unique:\n",
    "    ingredient_fv.append(cooking_df_train.ingredients.apply(lambda x: 1 if ing in x else 0).values)\n",
    "ingredient_fv = np.asarray(ingredient_fv)\n",
    "ingredient_fv = ingredient_fv.T"
   ]
  },
  {
   "cell_type": "code",
   "execution_count": 11,
   "metadata": {
    "collapsed": false
   },
   "outputs": [
    {
     "name": "stdout",
     "output_type": "stream",
     "text": [
      "9\n",
      "5750\n"
     ]
    },
    {
     "data": {
      "text/plain": [
       "numpy.ndarray"
      ]
     },
     "execution_count": 11,
     "metadata": {},
     "output_type": "execute_result"
    }
   ],
   "source": [
    "print len(cooking_df_train.ingredients[0])\n",
    "print all_ingredients_unique.index('grape tomatoes')\n",
    "type(ingredient_fv)"
   ]
  },
  {
   "cell_type": "markdown",
   "metadata": {},
   "source": [
    "(d) Using Naïve Bayes Classifier to perform 3 fold cross-validation on the training set and report your average classification accuracy. Try both Gaussian distribution prior assumption and Bernoulli distribution prior assumption."
   ]
  },
  {
   "cell_type": "code",
   "execution_count": 55,
   "metadata": {
    "collapsed": false
   },
   "outputs": [],
   "source": [
    "#set y vector and X matrix\n",
    "y = np.asarray(cooking_df_train.cuisine)\n",
    "X = ingredient_fv"
   ]
  },
  {
   "cell_type": "code",
   "execution_count": 56,
   "metadata": {
    "collapsed": false
   },
   "outputs": [
    {
     "data": {
      "text/plain": [
       "(39774, 6714)"
      ]
     },
     "execution_count": 56,
     "metadata": {},
     "output_type": "execute_result"
    }
   ],
   "source": [
    "len(y)\n",
    "X.shape"
   ]
  },
  {
   "cell_type": "code",
   "execution_count": 28,
   "metadata": {
    "collapsed": false
   },
   "outputs": [
    {
     "name": "stdout",
     "output_type": "stream",
     "text": [
      "('TRAIN:', 26516, 'TEST:', 13258)\n",
      "('TRAIN:', 26516, 'TEST:', 13258)\n",
      "('TRAIN:', 26516, 'TEST:', 13258)\n"
     ]
    }
   ],
   "source": [
    "#function for cross validation:\n",
    "kf = cross_validation.KFold(39774, n_folds=3)\n",
    "test_indices = []\n",
    "train_indices = []\n",
    "for train_index, test_index in kf:\n",
    "    print(\"TRAIN:\", len(train_index), \"TEST:\", len(test_index))\n",
    "    train_indices.append(train_index)\n",
    "    test_indices.append(test_index)"
   ]
  },
  {
   "cell_type": "code",
   "execution_count": 57,
   "metadata": {
    "collapsed": false
   },
   "outputs": [],
   "source": [
    "gnb = GaussianNB()"
   ]
  },
  {
   "cell_type": "code",
   "execution_count": 58,
   "metadata": {
    "collapsed": true
   },
   "outputs": [],
   "source": [
    "model = gnb.fit(X[train_indices[0]], y[train_indices[0]])\n",
    "y_predict = model.predict(X[test_indices[0]])"
   ]
  },
  {
   "cell_type": "code",
   "execution_count": 67,
   "metadata": {
    "collapsed": false
   },
   "outputs": [
    {
     "data": {
      "text/plain": [
       "0.38105294916276966"
      ]
     },
     "execution_count": 67,
     "metadata": {},
     "output_type": "execute_result"
    }
   ],
   "source": [
    "count\n",
    "float(count)/len(y_predict)"
   ]
  },
  {
   "cell_type": "code",
   "execution_count": 61,
   "metadata": {
    "collapsed": false
   },
   "outputs": [
    {
     "data": {
      "text/plain": [
       "0.38105294916276966"
      ]
     },
     "execution_count": 61,
     "metadata": {},
     "output_type": "execute_result"
    }
   ],
   "source": [
    "model.score(X[test_indices[0]], y[test_indices[0]])"
   ]
  },
  {
   "cell_type": "code",
   "execution_count": 68,
   "metadata": {
    "collapsed": true
   },
   "outputs": [],
   "source": [
    "predictions = []\n",
    "scores = []\n",
    "for i in xrange(0,3):\n",
    "    model = gnb.fit(X[train_indices[i]], y[train_indices[i]])\n",
    "    y_predict = model.predict(X[test_indices[i]])\n",
    "    y_actual = y[test_indices[i]]\n",
    "    predictions.append(y_predict)\n",
    "    count = 0\n",
    "    for i in xrange(len(y_predict)):\n",
    "        if (y_predict[i] == y_actual[i]):\n",
    "            count+=1\n",
    "    scores.append(float(count)/len(y_predict))\n",
    "                              "
   ]
  },
  {
   "cell_type": "code",
   "execution_count": 76,
   "metadata": {
    "collapsed": false
   },
   "outputs": [
    {
     "data": {
      "text/plain": [
       "0.3823854779504199"
      ]
     },
     "execution_count": 76,
     "metadata": {},
     "output_type": "execute_result"
    }
   ],
   "source": [
    "sum(scores)/float(len(scores))"
   ]
  },
  {
   "cell_type": "code",
   "execution_count": 70,
   "metadata": {
    "collapsed": true
   },
   "outputs": [],
   "source": [
    "###bernoulli\n",
    "bnb = BernoulliNB()"
   ]
  },
  {
   "cell_type": "code",
   "execution_count": 71,
   "metadata": {
    "collapsed": true
   },
   "outputs": [],
   "source": [
    "predictions_bnb = []\n",
    "scores_bnb = []\n",
    "for i in xrange(0,3):\n",
    "    model = bnb.fit(X[train_indices[i]], y[train_indices[i]])\n",
    "    y_predict = model.predict(X[test_indices[i]])\n",
    "    y_actual = y[test_indices[i]]\n",
    "    predictions_bnb.append(y_predict)\n",
    "    count = 0\n",
    "    for i in xrange(len(y_predict)):\n",
    "        if (y_predict[i] == y_actual[i]):\n",
    "            count+=1\n",
    "    scores_bnb.append(float(count)/len(y_predict))"
   ]
  },
  {
   "cell_type": "code",
   "execution_count": 81,
   "metadata": {
    "collapsed": false
   },
   "outputs": [
    {
     "data": {
      "text/plain": [
       "0.6867048825866143"
      ]
     },
     "execution_count": 81,
     "metadata": {},
     "output_type": "execute_result"
    }
   ],
   "source": [
    "sum(scores_bnb)/float(len(scores_bnb))"
   ]
  },
  {
   "cell_type": "markdown",
   "metadata": {},
   "source": [
    "f) Using Logistic Regression Model to perform 3 fold cross-validation on the training set and report your average classification accuracy."
   ]
  },
  {
   "cell_type": "code",
   "execution_count": 78,
   "metadata": {
    "collapsed": true
   },
   "outputs": [],
   "source": [
    "###logreg\n",
    "predictions_log = []\n",
    "scores_log = []\n",
    "for i in xrange(0,3):\n",
    "    logreg = linear_model.LogisticRegression()\n",
    "    model = logreg.fit(X[train_indices[i]], y[train_indices[i]])\n",
    "    y_predict = model.predict(X[test_indices[i]])\n",
    "    y_actual = y[test_indices[i]]\n",
    "    predictions_log.append(y_predict)\n",
    "    count = 0\n",
    "    for i in xrange(len(y_predict)):\n",
    "        if (y_predict[i] == y_actual[i]):\n",
    "            count+=1\n",
    "    scores_log.append(float(count)/len(y_predict))"
   ]
  },
  {
   "cell_type": "code",
   "execution_count": 80,
   "metadata": {
    "collapsed": false
   },
   "outputs": [
    {
     "data": {
      "text/plain": [
       "0.7755568964650275"
      ]
     },
     "execution_count": 80,
     "metadata": {},
     "output_type": "execute_result"
    }
   ],
   "source": [
    "sum(scores_log)/float(len(scores_log))"
   ]
  },
  {
   "cell_type": "markdown",
   "metadata": {},
   "source": [
    "(g) Train your best-performed classifier with all of the training data, and generate test labels on test set. Submit your results to Kaggle and report the accuracy."
   ]
  },
  {
   "cell_type": "code",
   "execution_count": 82,
   "metadata": {
    "collapsed": true
   },
   "outputs": [],
   "source": [
    "#X_test vector\n",
    "X_test = []\n",
    "for ing in all_ingredients_unique:\n",
    "    X_test.append(cooking_df_test.ingredients.apply(lambda x: 1 if ing in x else 0).values)\n",
    "X_test = np.asarray(X_test)\n",
    "X_test = X_test.T"
   ]
  },
  {
   "cell_type": "code",
   "execution_count": 88,
   "metadata": {
    "collapsed": false
   },
   "outputs": [],
   "source": [
    "model = logreg.fit(X, y)\n",
    "y_test = model.predict(X_test)"
   ]
  },
  {
   "cell_type": "code",
   "execution_count": 89,
   "metadata": {
    "collapsed": false
   },
   "outputs": [
    {
     "data": {
      "text/plain": [
       "array([u'british', u'southern_us', u'italian', ..., u'italian',\n",
       "       u'southern_us', u'mexican'], dtype=object)"
      ]
     },
     "execution_count": 89,
     "metadata": {},
     "output_type": "execute_result"
    }
   ],
   "source": [
    "y_test"
   ]
  },
  {
   "cell_type": "code",
   "execution_count": 95,
   "metadata": {
    "collapsed": false
   },
   "outputs": [],
   "source": [
    "submission = pd.DataFrame(cooking_df_test.id)\n",
    "submission['cuisine'] = y_test"
   ]
  },
  {
   "cell_type": "code",
   "execution_count": 98,
   "metadata": {
    "collapsed": true
   },
   "outputs": [],
   "source": [
    "submission.to_csv(\"submission_cooking.csv\",index=False)"
   ]
  }
 ],
 "metadata": {
  "kernelspec": {
   "display_name": "Python 2",
   "language": "python",
   "name": "python2"
  },
  "language_info": {
   "codemirror_mode": {
    "name": "ipython",
    "version": 2
   },
   "file_extension": ".py",
   "mimetype": "text/x-python",
   "name": "python",
   "nbconvert_exporter": "python",
   "pygments_lexer": "ipython2",
   "version": "2.7.9"
  }
 },
 "nbformat": 4,
 "nbformat_minor": 0
}
