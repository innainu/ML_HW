{
 "cells": [
  {
   "cell_type": "code",
   "execution_count": 3,
   "metadata": {
    "collapsed": true
   },
   "outputs": [],
   "source": [
    "%matplotlib inline\n",
    "import numpy as np\n",
    "import pandas as pd\n",
    "import scipy as sp\n",
    "from scipy import misc\n",
    "import matplotlib.pyplot as plt\n",
    "import matplotlib.cm as cm\n",
    "\n",
    "from nltk.corpus import stopwords\n",
    "\n",
    "import sklearn as skl\n",
    "import csv\n",
    "import re\n",
    "import json\n",
    "import string"
   ]
  },
  {
   "cell_type": "markdown",
   "metadata": {},
   "source": [
    "#### read in data"
   ]
  },
  {
   "cell_type": "code",
   "execution_count": 4,
   "metadata": {
    "collapsed": true
   },
   "outputs": [],
   "source": [
    "file_train = \"CS5785-final-data/train.txt\"\n",
    "path_to_images = \"CS5785-final-data/images/test/\""
   ]
  },
  {
   "cell_type": "code",
   "execution_count": 5,
   "metadata": {
    "collapsed": false
   },
   "outputs": [
    {
     "data": {
      "text/plain": [
       "(256, 256, 3)"
      ]
     },
     "execution_count": 5,
     "metadata": {},
     "output_type": "execute_result"
    }
   ],
   "source": [
    "#all images are 256x 256 x 3\n",
    "im = misc.imread(path_to_images + \"0001.jpg\")\n",
    "im.shape"
   ]
  },
  {
   "cell_type": "code",
   "execution_count": 116,
   "metadata": {
    "collapsed": false
   },
   "outputs": [],
   "source": [
    "#use alex net data\n",
    "alex_net_feat_10k = np.load(\"CS5785-final-data/alexnet_feat_10k.npy\")\n",
    "alex_net_feat_test = np.load(\"CS5785-final-data/alexnet_feat_test.npy\")\n",
    "alex_net_feat_train = np.load(\"CS5785-final-data/alexnet_feat_train.npy\")\n",
    "#sift data\n",
    "sift_feat_10k = np.load(\"CS5785-final-data/SIFTBoW_10k.npy\")\n",
    "sift_feat_test = np.load(\"CS5785-final-data/SIFTBoW_test.npy\")\n",
    "sift_feat_train = np.load(\"CS5785-final-data/SIFTBoW_train.npy\")"
   ]
  },
  {
   "cell_type": "code",
   "execution_count": 6,
   "metadata": {
    "collapsed": true
   },
   "outputs": [],
   "source": [
    "#read in attributes\n",
    "file_a = \"CS5785-final-data/attributes_list.txt\"\n",
    "file_b = \"CS5785-final-data/attributes_test.txt\"\n",
    "file_c = \"CS5785-final-data/attributes_train.txt\"\n",
    "file_out = \"CS5785-final-data/train.txt\""
   ]
  },
  {
   "cell_type": "code",
   "execution_count": 7,
   "metadata": {
    "collapsed": false
   },
   "outputs": [],
   "source": [
    "with open(file_a, 'r') as f:\n",
    "    reader = csv.reader(f, dialect='excel', delimiter='\\n')\n",
    "    attributes_list = []\n",
    "    for row in reader: \n",
    "        attributes_list.append(row[0])"
   ]
  },
  {
   "cell_type": "code",
   "execution_count": 8,
   "metadata": {
    "collapsed": false
   },
   "outputs": [],
   "source": [
    "def read_att(file):\n",
    "    with open(file, 'r') as f:\n",
    "        reader = csv.reader(f, dialect='excel', delimiter='\\n')\n",
    "        img = []\n",
    "        fv = []\n",
    "        for row in reader: \n",
    "            img.append(row[0].split()[0])\n",
    "            fv.append(map(int, row[0].split()[1].split(\",\")))\n",
    "    return img, fv"
   ]
  },
  {
   "cell_type": "code",
   "execution_count": 9,
   "metadata": {
    "collapsed": false
   },
   "outputs": [],
   "source": [
    "img, fv = read_att(file_c)\n",
    "final_test_img, final_test_fv = read_att(file_b)"
   ]
  },
  {
   "cell_type": "code",
   "execution_count": 10,
   "metadata": {
    "collapsed": false
   },
   "outputs": [],
   "source": [
    "with open(file_out, 'r') as f:\n",
    "    reader = csv.reader(f, dialect='excel', delimiter='\\n')\n",
    "    output = []\n",
    "    for row in reader: \n",
    "        output.append(row[0].split()[1])\n"
   ]
  },
  {
   "cell_type": "code",
   "execution_count": 11,
   "metadata": {
    "collapsed": false
   },
   "outputs": [
    {
     "data": {
      "text/plain": [
       "3000"
      ]
     },
     "execution_count": 11,
     "metadata": {},
     "output_type": "execute_result"
    }
   ],
   "source": [
    "len(output)"
   ]
  },
  {
   "cell_type": "markdown",
   "metadata": {},
   "source": [
    "### Load captions"
   ]
  },
  {
   "cell_type": "code",
   "execution_count": 95,
   "metadata": {
    "collapsed": true
   },
   "outputs": [],
   "source": [
    "f =\"CS5785-final-data/captions.json\"\n",
    "\n",
    "with open(f) as json_file:\n",
    "    j = json.load(json_file)"
   ]
  },
  {
   "cell_type": "code",
   "execution_count": 176,
   "metadata": {
    "collapsed": false
   },
   "outputs": [],
   "source": [
    "# convert to string\n",
    "stop_words = set(stopwords.words(\"english\"))\n",
    "\n",
    "captions = []\n",
    "imgs = []\n",
    "for caption in j:\n",
    "    words = []\n",
    "    for pic in j[caption]:\n",
    "        caption_text = pic.encode('ascii','ignore')\n",
    "        caption_text = caption_text.translate(None, string.punctuation)\n",
    "        caption_text = caption_text.split()\n",
    "        caption_text = [c.lower() for c in caption_text]\n",
    "        caption_text = [c for c in caption_text if c not in stop_words]\n",
    "        \n",
    "        words.extend(caption_text)\n",
    "    captions.append(words)\n",
    "    imgs.append(caption)"
   ]
  },
  {
   "cell_type": "code",
   "execution_count": null,
   "metadata": {
    "collapsed": true
   },
   "outputs": [],
   "source": [
    "for r in xrange(len(output)):\n",
    "    output[r] = output[r].replace(\"_\", \" \")"
   ]
  },
  {
   "cell_type": "code",
   "execution_count": 52,
   "metadata": {
    "collapsed": true
   },
   "outputs": [],
   "source": [
    "unique_lab = np.unique(np.asarray(output))\n",
    "# Clean some words\n",
    "unique_lab = [u.replace('videostore','video store') for u in unique_lab]"
   ]
  },
  {
   "cell_type": "markdown",
   "metadata": {
    "collapsed": false
   },
   "source": [
    "##Google news word2vec model from:\n",
    "\n",
    "https://code.google.com/p/word2vec/"
   ]
  },
  {
   "cell_type": "code",
   "execution_count": 22,
   "metadata": {
    "collapsed": false
   },
   "outputs": [
    {
     "data": {
      "text/plain": [
       "0.76640122344103201"
      ]
     },
     "execution_count": 22,
     "metadata": {},
     "output_type": "execute_result"
    }
   ],
   "source": [
    "# from gensim.models import Word2Vec\n",
    "import os\n",
    "import gensim\n",
    "model = gensim.models.word2vec.Word2Vec.load_word2vec_format('GoogleNews-vectors-negative300.bin', binary=True)\n",
    "model.similarity('woman', 'man')\n"
   ]
  },
  {
   "cell_type": "code",
   "execution_count": 264,
   "metadata": {
    "collapsed": false
   },
   "outputs": [
    {
     "data": {
      "text/plain": [
       "0.087995496112116989"
      ]
     },
     "execution_count": 264,
     "metadata": {},
     "output_type": "execute_result"
    }
   ],
   "source": [
    "model.similarity('playground', 'food')\n"
   ]
  },
  {
   "cell_type": "code",
   "execution_count": 107,
   "metadata": {
    "collapsed": false
   },
   "outputs": [
    {
     "name": "stdout",
     "output_type": "stream",
     "text": [
      "['crowds', 'cheer', 'cyclists', 'complete', 'race', 'finish', 'bicycle', 'road', 'racers', 'passing', 'group', 'cheering', 'spectators', 'people', 'bicycles', 'riding', 'group', 'onlookers', 'bicycle', 'racers', 'cheered', 'people', 'racers', 'bikes', 'riding', 'past', 'crowd']\n",
      "yard\n"
     ]
    }
   ],
   "source": [
    "print captions[0]\n",
    "print output[0]\n",
    "c = [model[word] for word in captions[0]]\n",
    "o = [model[word] for word in unique_lab[0].split(' ')]"
   ]
  },
  {
   "cell_type": "code",
   "execution_count": 149,
   "metadata": {
    "collapsed": false
   },
   "outputs": [],
   "source": [
    "from gensim import matutils\n",
    "\n",
    "def n_similarity(model, ws1, ws2):\n",
    "    v1 = []\n",
    "    v2 = []\n",
    "    bad_words = []\n",
    "    for word in ws1:\n",
    "        try: \n",
    "            v1.append(model[word])\n",
    "        except:\n",
    "            bad_words.append(word)\n",
    "            continue\n",
    "    for word in ws2:\n",
    "        try: \n",
    "            v2.append(model[word])\n",
    "        except:\n",
    "            bad_words.append(word)\n",
    "            continue\n",
    "    return np.dot(matutils.unitvec(np.array(v1).mean(axis=0)), matutils.unitvec(np.array(v2).mean(axis=0))), bad_words"
   ]
  },
  {
   "cell_type": "code",
   "execution_count": 162,
   "metadata": {
    "collapsed": false
   },
   "outputs": [],
   "source": [
    "gensim_features = np.zeros((10000, 200))\n",
    "list_of_bad_words = []\n",
    "for u_idx, u in enumerate(unique_lab):\n",
    "    u = u.split(' ')\n",
    "    for c_idx, c in enumerate(captions):\n",
    "        gensim_features[c_idx, u_idx], _ = n_similarity(model, c, u)\n",
    "        # gensim_features[c_idx, u_idx], bad_words = n_similarity(model, c, u)\n",
    "        # list_of_bad_words.extend(bad_words)\n"
   ]
  },
  {
   "cell_type": "code",
   "execution_count": null,
   "metadata": {
    "collapsed": true
   },
   "outputs": [],
   "source": []
  },
  {
   "cell_type": "code",
   "execution_count": 249,
   "metadata": {
    "collapsed": false
   },
   "outputs": [],
   "source": [
    "np.save(\"gensim_features.npy\", gensim_features)\n",
    "np.save(\"imgs.npy\", imgs)\n",
    "np.save(\"captions.npy\", captions)\n",
    "np.save(\"unique_lab.npy\", unique_lab)\n",
    "np.save(\"output.npy\", output)"
   ]
  },
  {
   "cell_type": "code",
   "execution_count": 239,
   "metadata": {
    "collapsed": false
   },
   "outputs": [
    {
     "name": "stdout",
     "output_type": "stream",
     "text": [
      "171\n",
      "0.368644805917\n",
      "soccer field\n",
      "2587106431.jpg\n",
      "['three', 'young', 'boys', 'dressed', 'orange', 'navy', 'shirt', 'smiling', 'signs', 'fingers', 'three', 'boys', 'dressed', 'blue', 'orange', 'smiling', 'using', 'hand', 'signals', 'three', 'young', 'boys', 'wearing', 'school', 'uniforms', 'pose', 'smile', 'camera', 'three', 'young', 'boys', 'flash', 'signs', 'hands', 'smile', 'three', 'children', 'laughing', 'playing', 'together']\n"
     ]
    }
   ],
   "source": [
    "idx = 18\n",
    "print np.argmax(gensim_features[idx])\n",
    "print np.max(gensim_features[idx])\n",
    "print unique_lab[np.argmax(gensim_features[idx])]\n",
    "print imgs[idx]\n",
    "print captions[idx]"
   ]
  },
  {
   "cell_type": "code",
   "execution_count": 222,
   "metadata": {
    "collapsed": false
   },
   "outputs": [],
   "source": [
    "gmax = [np.max(g) for g in gensim_features]\n"
   ]
  },
  {
   "cell_type": "code",
   "execution_count": 160,
   "metadata": {
    "collapsed": true
   },
   "outputs": [],
   "source": [
    "all_caption_words = set()\n",
    "for w in captions:\n",
    "    for ww in w:\n",
    "        all_caption_words.add(ww)"
   ]
  },
  {
   "cell_type": "code",
   "execution_count": 158,
   "metadata": {
    "collapsed": false
   },
   "outputs": [
    {
     "data": {
      "text/plain": [
       "1081"
      ]
     },
     "execution_count": 158,
     "metadata": {},
     "output_type": "execute_result"
    }
   ],
   "source": [
    "len(set(list_of_bad_words))\n"
   ]
  },
  {
   "cell_type": "code",
   "execution_count": 190,
   "metadata": {
    "collapsed": false
   },
   "outputs": [
    {
     "name": "stdout",
     "output_type": "stream",
     "text": [
      "3000\n"
     ]
    }
   ],
   "source": [
    "x = 0\n",
    "fv_10k = []\n",
    "for label in output:\n",
    "    x+=1\n",
    "    if label in captions[0]:\n",
    "         fv_10k.append(1)\n",
    "    else:\n",
    "        fv_10k.append(0)\n",
    "print x"
   ]
  },
  {
   "cell_type": "code",
   "execution_count": 133,
   "metadata": {
    "collapsed": false
   },
   "outputs": [],
   "source": [
    "j['3304712466.jpg'][0].encode('ascii','ignore').split()\n",
    "a = []\n",
    "for r in j['3304712466.jpg']:\n",
    "    a.extend(r.encode('ascii','ignore').split())"
   ]
  }
 ],
 "metadata": {
  "kernelspec": {
   "display_name": "Python 2",
   "language": "python",
   "name": "python2"
  },
  "language_info": {
   "codemirror_mode": {
    "name": "ipython",
    "version": 2
   },
   "file_extension": ".py",
   "mimetype": "text/x-python",
   "name": "python",
   "nbconvert_exporter": "python",
   "pygments_lexer": "ipython2",
   "version": "2.7.9"
  }
 },
 "nbformat": 4,
 "nbformat_minor": 0
}
